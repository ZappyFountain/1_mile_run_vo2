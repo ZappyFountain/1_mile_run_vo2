{
 "cells": [
  {
   "cell_type": "code",
   "execution_count": 5,
   "metadata": {},
   "outputs": [],
   "source": [
    "def calc_vo2(run_time, age, weight, height, gender):\n",
    "    if gender == \"Male\":\n",
    "        gender_multiplier = 1\n",
    "    else:\n",
    "        gender_multiplier = 0\n",
    "    bmi = 703*(weight/(height**2))\n",
    "    time_sec = run_time/60\n",
    "    vo2 = (0.21 * age * gender_multiplier) - 0.84*(bmi) - 8.41*(time_sec) + 0.34*(time_sec**2) + 108.94\n",
    "    return vo2\n"
   ]
  },
  {
   "cell_type": "code",
   "execution_count": 6,
   "metadata": {},
   "outputs": [],
   "source": [
    "result =calc_vo2(410, 14, 120, 63, 'Male')"
   ]
  },
  {
   "cell_type": "code",
   "execution_count": 7,
   "metadata": {},
   "outputs": [
    {
     "name": "stdout",
     "output_type": "stream",
     "text": [
      "52.43380952380953\n"
     ]
    }
   ],
   "source": [
    "print(result)"
   ]
  },
  {
   "cell_type": "code",
   "execution_count": null,
   "metadata": {},
   "outputs": [],
   "source": []
  }
 ],
 "metadata": {
  "kernelspec": {
   "display_name": "Python 3",
   "language": "python",
   "name": "python3"
  },
  "language_info": {
   "codemirror_mode": {
    "name": "ipython",
    "version": 3
   },
   "file_extension": ".py",
   "mimetype": "text/x-python",
   "name": "python",
   "nbconvert_exporter": "python",
   "pygments_lexer": "ipython3",
   "version": "3.10.4"
  },
  "orig_nbformat": 4
 },
 "nbformat": 4,
 "nbformat_minor": 2
}
